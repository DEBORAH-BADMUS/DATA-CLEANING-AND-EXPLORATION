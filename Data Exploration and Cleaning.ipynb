{
 "cells": [
  {
   "cell_type": "markdown",
   "id": "1fd15d66-1e04-41c2-a8c2-70a556a52b1e",
   "metadata": {},
   "source": [
    "### Problem Statement\n",
    "\n",
    "The online retail business is looking to\n",
    "\n",
    "- optimize sales\n",
    "\n",
    "- cut down costs\n",
    "\n",
    "Approach\n", 
    "Problem Framing\n",
    "To solve this problem, we need dataset containing sales information\n",
    "\n",
    "- try the understand the data\n",
    "\n",
    "- prepare for analysis\n",
    "\n",
    "- Try to answer a couple questions like : 1. Sales trend 2. How much does it cost to run the business 3. How much are we making\n",
    "\n",
    "- Draw conclusions\n",
    "\n",
    "- Prepare a dashboard/summary"
   ]
  },
  {
   "cell_type": "code",
   "execution_count": 1,
   "id": "8846b012-a877-442d-ab34-c3940027f0c4",
   "metadata": {},
   "outputs": [],
   "source": [
    "import pandas as pd\n",
    "import numpy as np"
   ]
  },
  {
   "cell_type": "markdown",
   "id": "a622a1f1-6c28-481a-9fe8-452339ac4fa0",
   "metadata": {},
   "source": [
    "### Data Exploration"
   ]
  },
  {
   "cell_type": "code",
   "execution_count": 7,
   "id": "9c0be37f-aaab-45e8-9bcb-d468766469fc",
   "metadata": {},
   "outputs": [
    {
     "name": "stderr",
     "output_type": "stream",
     "text": [
      "C:\\Users\\DEBBY\\AppData\\Local\\Temp\\ipykernel_9848\\2403770338.py:1: DtypeWarning: Columns (5) have mixed types. Specify dtype option on import or set low_memory=False.\n",
      "  data =pd.read_csv('Online Retail data (1).csv',  encoding = 'ISO-8859-1')\n"
     ]
    }
   ],
   "source": [
    "data =pd.read_csv('Online Retail data (1).csv',  encoding = 'ISO-8859-1')"
   ]
  },
  {
   "cell_type": "code",
   "execution_count": 8,
   "id": "f217b4f5-afa4-48e5-a5be-f83dedbba422",
   "metadata": {},
   "outputs": [
    {
     "data": {
      "text/html": [
       "<div>\n",
       "<style scoped>\n",
       "    .dataframe tbody tr th:only-of-type {\n",
       "        vertical-align: middle;\n",
       "    }\n",
       "\n",
       "    .dataframe tbody tr th {\n",
       "        vertical-align: top;\n",
       "    }\n",
       "\n",
       "    .dataframe thead th {\n",
       "        text-align: right;\n",
       "    }\n",
       "</style>\n",
       "<table border=\"1\" class=\"dataframe\">\n",
       "  <thead>\n",
       "    <tr style=\"text-align: right;\">\n",
       "      <th></th>\n",
       "      <th>Invoice</th>\n",
       "      <th>StockCode</th>\n",
       "      <th>Description</th>\n",
       "      <th>Quantity</th>\n",
       "      <th>InvoiceDate</th>\n",
       "      <th>Price</th>\n",
       "      <th>Customer ID</th>\n",
       "      <th>Country</th>\n",
       "    </tr>\n",
       "  </thead>\n",
       "  <tbody>\n",
       "    <tr>\n",
       "      <th>0</th>\n",
       "      <td>489434</td>\n",
       "      <td>85048</td>\n",
       "      <td>15CM CHRISTMAS GLASS BALL 20 LIGHTS</td>\n",
       "      <td>12</td>\n",
       "      <td>12/01/2009 07:45</td>\n",
       "      <td>$6.95</td>\n",
       "      <td>13085.0</td>\n",
       "      <td>UK</td>\n",
       "    </tr>\n",
       "    <tr>\n",
       "      <th>1</th>\n",
       "      <td>489434</td>\n",
       "      <td>79323P</td>\n",
       "      <td>PINK CHERRY LIGHTS</td>\n",
       "      <td>12</td>\n",
       "      <td>12/01/2009 07:45</td>\n",
       "      <td>$6.75</td>\n",
       "      <td>13085.0</td>\n",
       "      <td>UK</td>\n",
       "    </tr>\n",
       "    <tr>\n",
       "      <th>2</th>\n",
       "      <td>489434</td>\n",
       "      <td>79323W</td>\n",
       "      <td>WHITE CHERRY LIGHTS</td>\n",
       "      <td>12</td>\n",
       "      <td>12/01/2009 07:45</td>\n",
       "      <td>6.75</td>\n",
       "      <td>13085.0</td>\n",
       "      <td>UK</td>\n",
       "    </tr>\n",
       "    <tr>\n",
       "      <th>3</th>\n",
       "      <td>489434</td>\n",
       "      <td>22041</td>\n",
       "      <td>RECORD FRAME 7\" SINGLE SIZE</td>\n",
       "      <td>48</td>\n",
       "      <td>12/01/2009 07:45</td>\n",
       "      <td>2.1</td>\n",
       "      <td>13085.0</td>\n",
       "      <td>UK</td>\n",
       "    </tr>\n",
       "    <tr>\n",
       "      <th>4</th>\n",
       "      <td>489434</td>\n",
       "      <td>21232</td>\n",
       "      <td>STRAWBERRY CERAMIC TRINKET BOX</td>\n",
       "      <td>24</td>\n",
       "      <td>12/01/2009 07:45</td>\n",
       "      <td>1.25</td>\n",
       "      <td>13085.0</td>\n",
       "      <td>UK</td>\n",
       "    </tr>\n",
       "  </tbody>\n",
       "</table>\n",
       "</div>"
      ],
      "text/plain": [
       "  Invoice StockCode                          Description  Quantity  \\\n",
       "0  489434     85048  15CM CHRISTMAS GLASS BALL 20 LIGHTS        12   \n",
       "1  489434    79323P                   PINK CHERRY LIGHTS        12   \n",
       "2  489434    79323W                  WHITE CHERRY LIGHTS        12   \n",
       "3  489434     22041         RECORD FRAME 7\" SINGLE SIZE         48   \n",
       "4  489434     21232       STRAWBERRY CERAMIC TRINKET BOX        24   \n",
       "\n",
       "        InvoiceDate  Price  Customer ID Country  \n",
       "0  12/01/2009 07:45  $6.95      13085.0      UK  \n",
       "1  12/01/2009 07:45  $6.75      13085.0      UK  \n",
       "2  12/01/2009 07:45   6.75      13085.0      UK  \n",
       "3  12/01/2009 07:45    2.1      13085.0      UK  \n",
       "4  12/01/2009 07:45   1.25      13085.0      UK  "
      ]
     },
     "execution_count": 8,
     "metadata": {},
     "output_type": "execute_result"
    }
   ],
   "source": [
    "data.head()"
   ]
  },
  {
   "cell_type": "code",
   "execution_count": 9,
   "id": "c2476cff-b74b-4e2f-8911-34784d1f50c1",
   "metadata": {},
   "outputs": [
    {
     "data": {
      "text/plain": [
       "(525461, 8)"
      ]
     },
     "execution_count": 9,
     "metadata": {},
     "output_type": "execute_result"
    }
   ],
   "source": [
    "data.shape"
   ]
  },
  {
   "cell_type": "code",
   "execution_count": 10,
   "id": "f3f8deab-ff31-4c0e-8aea-a4eae760b0c0",
   "metadata": {},
   "outputs": [
    {
     "data": {
      "text/plain": [
       "Index(['Invoice', 'StockCode', 'Description', 'Quantity', 'InvoiceDate',\n",
       "       'Price', 'Customer ID', 'Country'],\n",
       "      dtype='object')"
      ]
     },
     "execution_count": 10,
     "metadata": {},
     "output_type": "execute_result"
    }
   ],
   "source": [
    "data.columns"
   ]
  },
  {
   "cell_type": "code",
   "execution_count": 12,
   "id": "45191967-daf8-477e-b868-d5eec0a0bda0",
   "metadata": {},
   "outputs": [
    {
     "name": "stdout",
     "output_type": "stream",
     "text": [
      "<class 'pandas.core.frame.DataFrame'>\n",
      "RangeIndex: 525461 entries, 0 to 525460\n",
      "Data columns (total 8 columns):\n",
      " #   Column       Non-Null Count   Dtype  \n",
      "---  ------       --------------   -----  \n",
      " 0   Invoice      525461 non-null  object \n",
      " 1   StockCode    525461 non-null  object \n",
      " 2   Description  522533 non-null  object \n",
      " 3   Quantity     525461 non-null  int64  \n",
      " 4   InvoiceDate  525461 non-null  object \n",
      " 5   Price        525461 non-null  object \n",
      " 6   Customer ID  417534 non-null  float64\n",
      " 7   Country      525461 non-null  object \n",
      "dtypes: float64(1), int64(1), object(6)\n",
      "memory usage: 32.1+ MB\n"
     ]
    }
   ],
   "source": [
    "data.info()"
   ]
  },
  {
   "cell_type": "markdown",
   "id": "39925a8e-36ab-4d28-9eed-a44751f0711d",
   "metadata": {},
   "source": [
    "### Issues with data\r\n",
    "\r\n",
    "Customer ID has null values\r\n",
    "\r\n",
    "Data type issues : cust ID, Invoice date, pce\r\n",
    "\r\n"
   ]
  },
  {
   "cell_type": "markdown",
   "id": "5235871d-460a-43e8-b254-51baf3a222ee",
   "metadata": {},
   "source": [
    "### Data dictionary\n",
    "Here’s a sample **data dictionary** for your dataset. A data dictionary describes the fields (columns) in the dataset, providing metadata such as the type of data, description, and any constraints.\r\n",
    "\r\n",
    "| Column        | Data Type  | Description                                         | Example Value  |\r\n",
    "|---------------|------------|-----------------------------------------------------|----------------|\r\n",
    "| **Invoice**   | String/Int | Unique identifier for each transaction (invoice number). | `536365`        |\r\n",
    "| **StockCode** | String     | Unique code for each item/product.                  | `85123A`        |\r\n",
    "| **Description**| String     | Description or name of the product/item.            | `WHITE HANGING HEART T-LIGHT HOLDER` |\r\n",
    "| **Quantity**  | Integer    | The number of units sold in the transaction.        | `6`            |\r\n",
    "| **InvoiceDate**| DateTime   | The date and time the transaction was made.         | `2010-12-01 08:26:00` |\r\n",
    "| **Price**     | Float      | Unit price of the product/item sold.                | `2.55`         |\r\n",
    "| **Customer ID**| String/Int | Unique identifier for the customer who made the purchase. | `17850`       |\r\n",
    "| **Country**   | String     | The country where the transaction took place.       | `United Kingdom`|\r\n",
    "\r\n",
    "This dictionary can be expanded with more information, such as data source, validation rules, or notes if needed. Let me know if you need any other details!"
   ]
  },
  {
   "cell_type": "markdown",
   "id": "3341d638-e2a4-4ec6-ba9b-c701519880d6",
   "metadata": {},
   "source": [
    "### DATA CLEANING"
   ]
  },
  {
   "cell_type": "code",
   "execution_count": 13,
   "id": "57d08b64-09f6-4363-b4c5-9efc1eac5d8c",
   "metadata": {},
   "outputs": [
    {
     "data": {
      "text/plain": [
       "Invoice             0\n",
       "StockCode           0\n",
       "Description      2928\n",
       "Quantity            0\n",
       "InvoiceDate         0\n",
       "Price               0\n",
       "Customer ID    107927\n",
       "Country             0\n",
       "dtype: int64"
      ]
     },
     "execution_count": 13,
     "metadata": {},
     "output_type": "execute_result"
    }
   ],
   "source": [
    "data.isnull().sum()"
   ]
  },
  {
   "cell_type": "code",
   "execution_count": 14,
   "id": "d7993de0-16c5-43b9-a479-770f53ee1dbc",
   "metadata": {},
   "outputs": [
    {
     "data": {
      "text/plain": [
       "Invoice         0.000000\n",
       "StockCode       0.000000\n",
       "Description     0.557225\n",
       "Quantity        0.000000\n",
       "InvoiceDate     0.000000\n",
       "Price           0.000000\n",
       "Customer ID    20.539488\n",
       "Country         0.000000\n",
       "dtype: float64"
      ]
     },
     "execution_count": 14,
     "metadata": {},
     "output_type": "execute_result"
    }
   ],
   "source": [
    "data.isnull().sum()/len(data)* 100"
   ]
  },
  {
   "cell_type": "markdown",
   "id": "4d8d8db6-ef0d-478b-8359-04efb8b3ed3f",
   "metadata": {},
   "source": [
    "- Drop the customer ID column because it is irrelevant for the analysis and it has high percentage of null values"
   ]
  },
  {
   "cell_type": "code",
   "execution_count": 16,
   "id": "a6cffeb4-08bc-44b1-ad1b-9879ff752655",
   "metadata": {},
   "outputs": [],
   "source": [
    "data.drop('Customer ID', axis=1, inplace=True)"
   ]
  },
  {
   "cell_type": "code",
   "execution_count": 17,
   "id": "e5c10111-b014-40c5-865a-b9f84b3add8b",
   "metadata": {},
   "outputs": [
    {
     "name": "stdout",
     "output_type": "stream",
     "text": [
      "<class 'pandas.core.frame.DataFrame'>\n",
      "RangeIndex: 525461 entries, 0 to 525460\n",
      "Data columns (total 7 columns):\n",
      " #   Column       Non-Null Count   Dtype \n",
      "---  ------       --------------   ----- \n",
      " 0   Invoice      525461 non-null  object\n",
      " 1   StockCode    525461 non-null  object\n",
      " 2   Description  522533 non-null  object\n",
      " 3   Quantity     525461 non-null  int64 \n",
      " 4   InvoiceDate  525461 non-null  object\n",
      " 5   Price        525461 non-null  object\n",
      " 6   Country      525461 non-null  object\n",
      "dtypes: int64(1), object(6)\n",
      "memory usage: 28.1+ MB\n"
     ]
    }
   ],
   "source": [
    "data.info()"
   ]
  },
  {
   "cell_type": "code",
   "execution_count": 19,
   "id": "94035e4e-b8d0-4da1-ad7d-16ffd501921b",
   "metadata": {},
   "outputs": [
    {
     "data": {
      "text/plain": [
       "Description\n",
       "WHITE HANGING HEART T-LIGHT HOLDER     3549\n",
       "REGENCY CAKESTAND 3 TIER               2212\n",
       "STRAWBERRY CERAMIC TRINKET BOX         1843\n",
       "PACK OF 72 RETRO SPOT CAKE CASES       1466\n",
       "ASSORTED COLOUR BIRD ORNAMENT          1457\n",
       "                                       ... \n",
       "stock credited from royal yacht inc       1\n",
       "VINTAGE METAL CAKE STAND CREAM            1\n",
       "BLUE BAROQUE FLOCK CANDLE HOLDER          1\n",
       "S/4 HEART CRYSTAL FRIDGE MAGNETS          1\n",
       "dotcom email                              1\n",
       "Name: count, Length: 4681, dtype: int64"
      ]
     },
     "execution_count": 19,
     "metadata": {},
     "output_type": "execute_result"
    }
   ],
   "source": [
    "data['Description']. value_counts()\n"
   ]
  },
  {
   "cell_type": "code",
   "execution_count": 22,
   "id": "edeaa5f3-002a-4bf5-89d5-4caad337fe4f",
   "metadata": {},
   "outputs": [
    {
     "data": {
      "text/html": [
       "<div>\n",
       "<style scoped>\n",
       "    .dataframe tbody tr th:only-of-type {\n",
       "        vertical-align: middle;\n",
       "    }\n",
       "\n",
       "    .dataframe tbody tr th {\n",
       "        vertical-align: top;\n",
       "    }\n",
       "\n",
       "    .dataframe thead th {\n",
       "        text-align: right;\n",
       "    }\n",
       "</style>\n",
       "<table border=\"1\" class=\"dataframe\">\n",
       "  <thead>\n",
       "    <tr style=\"text-align: right;\">\n",
       "      <th></th>\n",
       "      <th>Invoice</th>\n",
       "      <th>StockCode</th>\n",
       "      <th>Description</th>\n",
       "      <th>Quantity</th>\n",
       "      <th>InvoiceDate</th>\n",
       "      <th>Price</th>\n",
       "      <th>Country</th>\n",
       "    </tr>\n",
       "  </thead>\n",
       "  <tbody>\n",
       "    <tr>\n",
       "      <th>470</th>\n",
       "      <td>489521</td>\n",
       "      <td>21646</td>\n",
       "      <td>NaN</td>\n",
       "      <td>-50</td>\n",
       "      <td>12/01/2009 11:44</td>\n",
       "      <td>0</td>\n",
       "      <td>United Kingdom</td>\n",
       "    </tr>\n",
       "    <tr>\n",
       "      <th>3114</th>\n",
       "      <td>489655</td>\n",
       "      <td>20683</td>\n",
       "      <td>NaN</td>\n",
       "      <td>-44</td>\n",
       "      <td>12/01/2009 17:26</td>\n",
       "      <td>0</td>\n",
       "      <td>United Kingdom</td>\n",
       "    </tr>\n",
       "    <tr>\n",
       "      <th>3161</th>\n",
       "      <td>489659</td>\n",
       "      <td>21350</td>\n",
       "      <td>NaN</td>\n",
       "      <td>230</td>\n",
       "      <td>12/01/2009 17:39</td>\n",
       "      <td>0</td>\n",
       "      <td>United Kingdom</td>\n",
       "    </tr>\n",
       "    <tr>\n",
       "      <th>3731</th>\n",
       "      <td>489781</td>\n",
       "      <td>84292</td>\n",
       "      <td>NaN</td>\n",
       "      <td>17</td>\n",
       "      <td>12/02/2009 11:45</td>\n",
       "      <td>0</td>\n",
       "      <td>United Kingdom</td>\n",
       "    </tr>\n",
       "    <tr>\n",
       "      <th>4296</th>\n",
       "      <td>489806</td>\n",
       "      <td>18010</td>\n",
       "      <td>NaN</td>\n",
       "      <td>-770</td>\n",
       "      <td>12/02/2009 12:42</td>\n",
       "      <td>0</td>\n",
       "      <td>United Kingdom</td>\n",
       "    </tr>\n",
       "    <tr>\n",
       "      <th>4566</th>\n",
       "      <td>489821</td>\n",
       "      <td>85049G</td>\n",
       "      <td>NaN</td>\n",
       "      <td>-240</td>\n",
       "      <td>12/02/2009 13:25</td>\n",
       "      <td>0</td>\n",
       "      <td>United Kingdom</td>\n",
       "    </tr>\n",
       "    <tr>\n",
       "      <th>6378</th>\n",
       "      <td>489882</td>\n",
       "      <td>35751C</td>\n",
       "      <td>NaN</td>\n",
       "      <td>12</td>\n",
       "      <td>12/02/2009 16:22</td>\n",
       "      <td>0</td>\n",
       "      <td>United Kingdom</td>\n",
       "    </tr>\n",
       "    <tr>\n",
       "      <th>6555</th>\n",
       "      <td>489898</td>\n",
       "      <td>79323G</td>\n",
       "      <td>NaN</td>\n",
       "      <td>954</td>\n",
       "      <td>12/03/2009 09:40</td>\n",
       "      <td>0</td>\n",
       "      <td>United Kingdom</td>\n",
       "    </tr>\n",
       "    <tr>\n",
       "      <th>6576</th>\n",
       "      <td>489901</td>\n",
       "      <td>21098</td>\n",
       "      <td>NaN</td>\n",
       "      <td>-200</td>\n",
       "      <td>12/03/2009 09:47</td>\n",
       "      <td>0</td>\n",
       "      <td>United Kingdom</td>\n",
       "    </tr>\n",
       "    <tr>\n",
       "      <th>6581</th>\n",
       "      <td>489903</td>\n",
       "      <td>21166</td>\n",
       "      <td>NaN</td>\n",
       "      <td>48</td>\n",
       "      <td>12/03/2009 09:57</td>\n",
       "      <td>0</td>\n",
       "      <td>United Kingdom</td>\n",
       "    </tr>\n",
       "  </tbody>\n",
       "</table>\n",
       "</div>"
      ],
      "text/plain": [
       "     Invoice StockCode Description  Quantity       InvoiceDate Price  \\\n",
       "470   489521     21646         NaN       -50  12/01/2009 11:44     0   \n",
       "3114  489655     20683         NaN       -44  12/01/2009 17:26     0   \n",
       "3161  489659     21350         NaN       230  12/01/2009 17:39     0   \n",
       "3731  489781     84292         NaN        17  12/02/2009 11:45     0   \n",
       "4296  489806     18010         NaN      -770  12/02/2009 12:42     0   \n",
       "4566  489821    85049G         NaN      -240  12/02/2009 13:25     0   \n",
       "6378  489882    35751C         NaN        12  12/02/2009 16:22     0   \n",
       "6555  489898    79323G         NaN       954  12/03/2009 09:40     0   \n",
       "6576  489901     21098         NaN      -200  12/03/2009 09:47     0   \n",
       "6581  489903     21166         NaN        48  12/03/2009 09:57     0   \n",
       "\n",
       "             Country  \n",
       "470   United Kingdom  \n",
       "3114  United Kingdom  \n",
       "3161  United Kingdom  \n",
       "3731  United Kingdom  \n",
       "4296  United Kingdom  \n",
       "4566  United Kingdom  \n",
       "6378  United Kingdom  \n",
       "6555  United Kingdom  \n",
       "6576  United Kingdom  \n",
       "6581  United Kingdom  "
      ]
     },
     "execution_count": 22,
     "metadata": {},
     "output_type": "execute_result"
    }
   ],
   "source": [
    "data[data['Description'].isnull()].head(10)\n"
   ]
  },
  {
   "cell_type": "code",
   "execution_count": 23,
   "id": "8ecbbd24-a4a1-4ff2-a49a-45363eb30efa",
   "metadata": {},
   "outputs": [],
   "source": [
    "data.dropna(axis=0, inplace= True)"
   ]
  },
  {
   "cell_type": "code",
   "execution_count": 25,
   "id": "af7f824b-f4a0-41c4-816a-f9c22d0d3366",
   "metadata": {},
   "outputs": [
    {
     "data": {
      "text/plain": [
       "Invoice        0\n",
       "StockCode      0\n",
       "Description    0\n",
       "Quantity       0\n",
       "InvoiceDate    0\n",
       "Price          0\n",
       "Country        0\n",
       "dtype: int64"
      ]
     },
     "execution_count": 25,
     "metadata": {},
     "output_type": "execute_result"
    }
   ],
   "source": [
    "data.isnull().sum()"
   ]
  },
  {
   "cell_type": "code",
   "execution_count": 26,
   "id": "5e087325-8523-496e-a2e2-90269dbc83c7",
   "metadata": {},
   "outputs": [
    {
     "data": {
      "text/plain": [
       "1.3137926217100164"
      ]
     },
     "execution_count": 26,
     "metadata": {},
     "output_type": "execute_result"
    }
   ],
   "source": [
    "data.duplicated().sum() / len(data) * 100"
   ]
  },
  {
   "cell_type": "code",
   "execution_count": 27,
   "id": "616ecd99-70f0-4d9f-9919-b502333a0cb3",
   "metadata": {},
   "outputs": [],
   "source": [
    "data = data.drop_duplicates()"
   ]
  },
  {
   "cell_type": "code",
   "execution_count": 28,
   "id": "4c5a1d5f-48b7-4d83-bd65-4db45cb046e0",
   "metadata": {},
   "outputs": [
    {
     "data": {
      "text/plain": [
       "0"
      ]
     },
     "execution_count": 28,
     "metadata": {},
     "output_type": "execute_result"
    }
   ],
   "source": [
    "data.duplicated().sum()"
   ]
  },
  {
   "cell_type": "code",
   "execution_count": 29,
   "id": "86b60dbf-a696-44a8-9ce0-a69387ccc94a",
   "metadata": {},
   "outputs": [
    {
     "name": "stdout",
     "output_type": "stream",
     "text": [
      "<class 'pandas.core.frame.DataFrame'>\n",
      "Index: 515668 entries, 0 to 525460\n",
      "Data columns (total 7 columns):\n",
      " #   Column       Non-Null Count   Dtype \n",
      "---  ------       --------------   ----- \n",
      " 0   Invoice      515668 non-null  object\n",
      " 1   StockCode    515668 non-null  object\n",
      " 2   Description  515668 non-null  object\n",
      " 3   Quantity     515668 non-null  int64 \n",
      " 4   InvoiceDate  515668 non-null  object\n",
      " 5   Price        515668 non-null  object\n",
      " 6   Country      515668 non-null  object\n",
      "dtypes: int64(1), object(6)\n",
      "memory usage: 31.5+ MB\n"
     ]
    }
   ],
   "source": [
    "data.info()"
   ]
  },
  {
   "cell_type": "code",
   "execution_count": 30,
   "id": "3affd1bc-cfeb-4a15-9d96-d9e08e1e53af",
   "metadata": {},
   "outputs": [
    {
     "data": {
      "text/html": [
       "<div>\n",
       "<style scoped>\n",
       "    .dataframe tbody tr th:only-of-type {\n",
       "        vertical-align: middle;\n",
       "    }\n",
       "\n",
       "    .dataframe tbody tr th {\n",
       "        vertical-align: top;\n",
       "    }\n",
       "\n",
       "    .dataframe thead th {\n",
       "        text-align: right;\n",
       "    }\n",
       "</style>\n",
       "<table border=\"1\" class=\"dataframe\">\n",
       "  <thead>\n",
       "    <tr style=\"text-align: right;\">\n",
       "      <th></th>\n",
       "      <th>Invoice</th>\n",
       "      <th>StockCode</th>\n",
       "      <th>Description</th>\n",
       "      <th>Quantity</th>\n",
       "      <th>InvoiceDate</th>\n",
       "      <th>Price</th>\n",
       "      <th>Country</th>\n",
       "    </tr>\n",
       "  </thead>\n",
       "  <tbody>\n",
       "    <tr>\n",
       "      <th>0</th>\n",
       "      <td>489434</td>\n",
       "      <td>85048</td>\n",
       "      <td>15CM CHRISTMAS GLASS BALL 20 LIGHTS</td>\n",
       "      <td>12</td>\n",
       "      <td>12/01/2009 07:45</td>\n",
       "      <td>$6.95</td>\n",
       "      <td>UK</td>\n",
       "    </tr>\n",
       "    <tr>\n",
       "      <th>1</th>\n",
       "      <td>489434</td>\n",
       "      <td>79323P</td>\n",
       "      <td>PINK CHERRY LIGHTS</td>\n",
       "      <td>12</td>\n",
       "      <td>12/01/2009 07:45</td>\n",
       "      <td>$6.75</td>\n",
       "      <td>UK</td>\n",
       "    </tr>\n",
       "    <tr>\n",
       "      <th>2</th>\n",
       "      <td>489434</td>\n",
       "      <td>79323W</td>\n",
       "      <td>WHITE CHERRY LIGHTS</td>\n",
       "      <td>12</td>\n",
       "      <td>12/01/2009 07:45</td>\n",
       "      <td>6.75</td>\n",
       "      <td>UK</td>\n",
       "    </tr>\n",
       "    <tr>\n",
       "      <th>3</th>\n",
       "      <td>489434</td>\n",
       "      <td>22041</td>\n",
       "      <td>RECORD FRAME 7\" SINGLE SIZE</td>\n",
       "      <td>48</td>\n",
       "      <td>12/01/2009 07:45</td>\n",
       "      <td>2.1</td>\n",
       "      <td>UK</td>\n",
       "    </tr>\n",
       "    <tr>\n",
       "      <th>4</th>\n",
       "      <td>489434</td>\n",
       "      <td>21232</td>\n",
       "      <td>STRAWBERRY CERAMIC TRINKET BOX</td>\n",
       "      <td>24</td>\n",
       "      <td>12/01/2009 07:45</td>\n",
       "      <td>1.25</td>\n",
       "      <td>UK</td>\n",
       "    </tr>\n",
       "  </tbody>\n",
       "</table>\n",
       "</div>"
      ],
      "text/plain": [
       "  Invoice StockCode                          Description  Quantity  \\\n",
       "0  489434     85048  15CM CHRISTMAS GLASS BALL 20 LIGHTS        12   \n",
       "1  489434    79323P                   PINK CHERRY LIGHTS        12   \n",
       "2  489434    79323W                  WHITE CHERRY LIGHTS        12   \n",
       "3  489434     22041         RECORD FRAME 7\" SINGLE SIZE         48   \n",
       "4  489434     21232       STRAWBERRY CERAMIC TRINKET BOX        24   \n",
       "\n",
       "        InvoiceDate  Price Country  \n",
       "0  12/01/2009 07:45  $6.95      UK  \n",
       "1  12/01/2009 07:45  $6.75      UK  \n",
       "2  12/01/2009 07:45   6.75      UK  \n",
       "3  12/01/2009 07:45    2.1      UK  \n",
       "4  12/01/2009 07:45   1.25      UK  "
      ]
     },
     "execution_count": 30,
     "metadata": {},
     "output_type": "execute_result"
    }
   ],
   "source": [
    "data.head()"
   ]
  },
  {
   "cell_type": "code",
   "execution_count": 31,
   "id": "e935273c-ccbc-4f13-bc41-9e8fc4267dae",
   "metadata": {},
   "outputs": [],
   "source": [
    "data.loc[0, 'Price'] = data.loc[0, 'Price'].replace('$', '')"
   ]
  },
  {
   "cell_type": "code",
   "execution_count": 33,
   "id": "5ffff463-7d55-435d-839b-00a0e25c5b8a",
   "metadata": {},
   "outputs": [
    {
     "data": {
      "text/html": [
       "<div>\n",
       "<style scoped>\n",
       "    .dataframe tbody tr th:only-of-type {\n",
       "        vertical-align: middle;\n",
       "    }\n",
       "\n",
       "    .dataframe tbody tr th {\n",
       "        vertical-align: top;\n",
       "    }\n",
       "\n",
       "    .dataframe thead th {\n",
       "        text-align: right;\n",
       "    }\n",
       "</style>\n",
       "<table border=\"1\" class=\"dataframe\">\n",
       "  <thead>\n",
       "    <tr style=\"text-align: right;\">\n",
       "      <th></th>\n",
       "      <th>Invoice</th>\n",
       "      <th>StockCode</th>\n",
       "      <th>Description</th>\n",
       "      <th>Quantity</th>\n",
       "      <th>InvoiceDate</th>\n",
       "      <th>Price</th>\n",
       "      <th>Country</th>\n",
       "    </tr>\n",
       "  </thead>\n",
       "  <tbody>\n",
       "    <tr>\n",
       "      <th>0</th>\n",
       "      <td>489434</td>\n",
       "      <td>85048</td>\n",
       "      <td>15CM CHRISTMAS GLASS BALL 20 LIGHTS</td>\n",
       "      <td>12</td>\n",
       "      <td>12/01/2009 07:45</td>\n",
       "      <td>6.95</td>\n",
       "      <td>UK</td>\n",
       "    </tr>\n",
       "    <tr>\n",
       "      <th>1</th>\n",
       "      <td>489434</td>\n",
       "      <td>79323P</td>\n",
       "      <td>PINK CHERRY LIGHTS</td>\n",
       "      <td>12</td>\n",
       "      <td>12/01/2009 07:45</td>\n",
       "      <td>$6.75</td>\n",
       "      <td>UK</td>\n",
       "    </tr>\n",
       "    <tr>\n",
       "      <th>2</th>\n",
       "      <td>489434</td>\n",
       "      <td>79323W</td>\n",
       "      <td>WHITE CHERRY LIGHTS</td>\n",
       "      <td>12</td>\n",
       "      <td>12/01/2009 07:45</td>\n",
       "      <td>6.75</td>\n",
       "      <td>UK</td>\n",
       "    </tr>\n",
       "    <tr>\n",
       "      <th>3</th>\n",
       "      <td>489434</td>\n",
       "      <td>22041</td>\n",
       "      <td>RECORD FRAME 7\" SINGLE SIZE</td>\n",
       "      <td>48</td>\n",
       "      <td>12/01/2009 07:45</td>\n",
       "      <td>2.1</td>\n",
       "      <td>UK</td>\n",
       "    </tr>\n",
       "    <tr>\n",
       "      <th>4</th>\n",
       "      <td>489434</td>\n",
       "      <td>21232</td>\n",
       "      <td>STRAWBERRY CERAMIC TRINKET BOX</td>\n",
       "      <td>24</td>\n",
       "      <td>12/01/2009 07:45</td>\n",
       "      <td>1.25</td>\n",
       "      <td>UK</td>\n",
       "    </tr>\n",
       "  </tbody>\n",
       "</table>\n",
       "</div>"
      ],
      "text/plain": [
       "  Invoice StockCode                          Description  Quantity  \\\n",
       "0  489434     85048  15CM CHRISTMAS GLASS BALL 20 LIGHTS        12   \n",
       "1  489434    79323P                   PINK CHERRY LIGHTS        12   \n",
       "2  489434    79323W                  WHITE CHERRY LIGHTS        12   \n",
       "3  489434     22041         RECORD FRAME 7\" SINGLE SIZE         48   \n",
       "4  489434     21232       STRAWBERRY CERAMIC TRINKET BOX        24   \n",
       "\n",
       "        InvoiceDate  Price Country  \n",
       "0  12/01/2009 07:45   6.95      UK  \n",
       "1  12/01/2009 07:45  $6.75      UK  \n",
       "2  12/01/2009 07:45   6.75      UK  \n",
       "3  12/01/2009 07:45    2.1      UK  \n",
       "4  12/01/2009 07:45   1.25      UK  "
      ]
     },
     "execution_count": 33,
     "metadata": {},
     "output_type": "execute_result"
    }
   ],
   "source": [
    "data.head()"
   ]
  },
  {
   "cell_type": "code",
   "execution_count": 34,
   "id": "3bcb4e5a-5ac3-4d6c-ad58-42f70b8b47bd",
   "metadata": {},
   "outputs": [],
   "source": [
    "data.loc[1, 'Price'] = data.loc[1, 'Price'].replace('$', '')"
   ]
  },
  {
   "cell_type": "code",
   "execution_count": 35,
   "id": "ada7b92a-2383-4d57-820d-ff4528572714",
   "metadata": {},
   "outputs": [
    {
     "data": {
      "text/html": [
       "<div>\n",
       "<style scoped>\n",
       "    .dataframe tbody tr th:only-of-type {\n",
       "        vertical-align: middle;\n",
       "    }\n",
       "\n",
       "    .dataframe tbody tr th {\n",
       "        vertical-align: top;\n",
       "    }\n",
       "\n",
       "    .dataframe thead th {\n",
       "        text-align: right;\n",
       "    }\n",
       "</style>\n",
       "<table border=\"1\" class=\"dataframe\">\n",
       "  <thead>\n",
       "    <tr style=\"text-align: right;\">\n",
       "      <th></th>\n",
       "      <th>Invoice</th>\n",
       "      <th>StockCode</th>\n",
       "      <th>Description</th>\n",
       "      <th>Quantity</th>\n",
       "      <th>InvoiceDate</th>\n",
       "      <th>Price</th>\n",
       "      <th>Country</th>\n",
       "    </tr>\n",
       "  </thead>\n",
       "  <tbody>\n",
       "    <tr>\n",
       "      <th>0</th>\n",
       "      <td>489434</td>\n",
       "      <td>85048</td>\n",
       "      <td>15CM CHRISTMAS GLASS BALL 20 LIGHTS</td>\n",
       "      <td>12</td>\n",
       "      <td>12/01/2009 07:45</td>\n",
       "      <td>6.95</td>\n",
       "      <td>UK</td>\n",
       "    </tr>\n",
       "    <tr>\n",
       "      <th>1</th>\n",
       "      <td>489434</td>\n",
       "      <td>79323P</td>\n",
       "      <td>PINK CHERRY LIGHTS</td>\n",
       "      <td>12</td>\n",
       "      <td>12/01/2009 07:45</td>\n",
       "      <td>6.75</td>\n",
       "      <td>UK</td>\n",
       "    </tr>\n",
       "    <tr>\n",
       "      <th>2</th>\n",
       "      <td>489434</td>\n",
       "      <td>79323W</td>\n",
       "      <td>WHITE CHERRY LIGHTS</td>\n",
       "      <td>12</td>\n",
       "      <td>12/01/2009 07:45</td>\n",
       "      <td>6.75</td>\n",
       "      <td>UK</td>\n",
       "    </tr>\n",
       "    <tr>\n",
       "      <th>3</th>\n",
       "      <td>489434</td>\n",
       "      <td>22041</td>\n",
       "      <td>RECORD FRAME 7\" SINGLE SIZE</td>\n",
       "      <td>48</td>\n",
       "      <td>12/01/2009 07:45</td>\n",
       "      <td>2.1</td>\n",
       "      <td>UK</td>\n",
       "    </tr>\n",
       "    <tr>\n",
       "      <th>4</th>\n",
       "      <td>489434</td>\n",
       "      <td>21232</td>\n",
       "      <td>STRAWBERRY CERAMIC TRINKET BOX</td>\n",
       "      <td>24</td>\n",
       "      <td>12/01/2009 07:45</td>\n",
       "      <td>1.25</td>\n",
       "      <td>UK</td>\n",
       "    </tr>\n",
       "  </tbody>\n",
       "</table>\n",
       "</div>"
      ],
      "text/plain": [
       "  Invoice StockCode                          Description  Quantity  \\\n",
       "0  489434     85048  15CM CHRISTMAS GLASS BALL 20 LIGHTS        12   \n",
       "1  489434    79323P                   PINK CHERRY LIGHTS        12   \n",
       "2  489434    79323W                  WHITE CHERRY LIGHTS        12   \n",
       "3  489434     22041         RECORD FRAME 7\" SINGLE SIZE         48   \n",
       "4  489434     21232       STRAWBERRY CERAMIC TRINKET BOX        24   \n",
       "\n",
       "        InvoiceDate Price Country  \n",
       "0  12/01/2009 07:45  6.95      UK  \n",
       "1  12/01/2009 07:45  6.75      UK  \n",
       "2  12/01/2009 07:45  6.75      UK  \n",
       "3  12/01/2009 07:45   2.1      UK  \n",
       "4  12/01/2009 07:45  1.25      UK  "
      ]
     },
     "execution_count": 35,
     "metadata": {},
     "output_type": "execute_result"
    }
   ],
   "source": [
    "data.head()"
   ]
  },
  {
   "cell_type": "code",
   "execution_count": 36,
   "id": "93d14251-0d56-43b2-81f3-1d3e94ed5ab9",
   "metadata": {},
   "outputs": [
    {
     "data": {
      "text/html": [
       "<div>\n",
       "<style scoped>\n",
       "    .dataframe tbody tr th:only-of-type {\n",
       "        vertical-align: middle;\n",
       "    }\n",
       "\n",
       "    .dataframe tbody tr th {\n",
       "        vertical-align: top;\n",
       "    }\n",
       "\n",
       "    .dataframe thead th {\n",
       "        text-align: right;\n",
       "    }\n",
       "</style>\n",
       "<table border=\"1\" class=\"dataframe\">\n",
       "  <thead>\n",
       "    <tr style=\"text-align: right;\">\n",
       "      <th></th>\n",
       "      <th>Invoice</th>\n",
       "      <th>StockCode</th>\n",
       "      <th>Description</th>\n",
       "      <th>Quantity</th>\n",
       "      <th>InvoiceDate</th>\n",
       "      <th>Price</th>\n",
       "      <th>Country</th>\n",
       "    </tr>\n",
       "  </thead>\n",
       "  <tbody>\n",
       "    <tr>\n",
       "      <th>525456</th>\n",
       "      <td>538171</td>\n",
       "      <td>22271</td>\n",
       "      <td>FELTCRAFT DOLL ROSIE</td>\n",
       "      <td>2</td>\n",
       "      <td>12/09/2010 20:01</td>\n",
       "      <td>2.95</td>\n",
       "      <td>United Kingdom</td>\n",
       "    </tr>\n",
       "    <tr>\n",
       "      <th>525457</th>\n",
       "      <td>538171</td>\n",
       "      <td>22750</td>\n",
       "      <td>FELTCRAFT PRINCESS LOLA DOLL</td>\n",
       "      <td>1</td>\n",
       "      <td>12/09/2010 20:01</td>\n",
       "      <td>3.75</td>\n",
       "      <td>United Kingdom</td>\n",
       "    </tr>\n",
       "    <tr>\n",
       "      <th>525458</th>\n",
       "      <td>538171</td>\n",
       "      <td>22751</td>\n",
       "      <td>FELTCRAFT PRINCESS OLIVIA DOLL</td>\n",
       "      <td>1</td>\n",
       "      <td>12/09/2010 20:01</td>\n",
       "      <td>3.75</td>\n",
       "      <td>United Kingdom</td>\n",
       "    </tr>\n",
       "    <tr>\n",
       "      <th>525459</th>\n",
       "      <td>538171</td>\n",
       "      <td>20970</td>\n",
       "      <td>PINK FLORAL FELTCRAFT SHOULDER BAG</td>\n",
       "      <td>2</td>\n",
       "      <td>12/09/2010 20:01</td>\n",
       "      <td>3.75</td>\n",
       "      <td>United Kingdom</td>\n",
       "    </tr>\n",
       "    <tr>\n",
       "      <th>525460</th>\n",
       "      <td>538171</td>\n",
       "      <td>21931</td>\n",
       "      <td>JUMBO STORAGE BAG SUKI</td>\n",
       "      <td>2</td>\n",
       "      <td>12/09/2010 20:01</td>\n",
       "      <td>1.95</td>\n",
       "      <td>United Kingdom</td>\n",
       "    </tr>\n",
       "  </tbody>\n",
       "</table>\n",
       "</div>"
      ],
      "text/plain": [
       "       Invoice StockCode                         Description  Quantity  \\\n",
       "525456  538171     22271                FELTCRAFT DOLL ROSIE         2   \n",
       "525457  538171     22750        FELTCRAFT PRINCESS LOLA DOLL         1   \n",
       "525458  538171     22751      FELTCRAFT PRINCESS OLIVIA DOLL         1   \n",
       "525459  538171     20970  PINK FLORAL FELTCRAFT SHOULDER BAG         2   \n",
       "525460  538171     21931              JUMBO STORAGE BAG SUKI         2   \n",
       "\n",
       "             InvoiceDate Price         Country  \n",
       "525456  12/09/2010 20:01  2.95  United Kingdom  \n",
       "525457  12/09/2010 20:01  3.75  United Kingdom  \n",
       "525458  12/09/2010 20:01  3.75  United Kingdom  \n",
       "525459  12/09/2010 20:01  3.75  United Kingdom  \n",
       "525460  12/09/2010 20:01  1.95  United Kingdom  "
      ]
     },
     "execution_count": 36,
     "metadata": {},
     "output_type": "execute_result"
    }
   ],
   "source": [
    "data.tail()"
   ]
  },
  {
   "cell_type": "code",
   "execution_count": 37,
   "id": "1dcbf8e8-a4fd-4d24-b11e-c1d6173755de",
   "metadata": {},
   "outputs": [],
   "source": [
    "data_copy = data.copy()"
   ]
  },
  {
   "cell_type": "code",
   "execution_count": 38,
   "id": "8db9e3d6-c888-4a0f-8f70-1af09aea7229",
   "metadata": {},
   "outputs": [
    {
     "name": "stderr",
     "output_type": "stream",
     "text": [
      "C:\\Users\\DEBBY\\AppData\\Local\\Temp\\ipykernel_9848\\3349688125.py:1: SettingWithCopyWarning: \n",
      "A value is trying to be set on a copy of a slice from a DataFrame.\n",
      "Try using .loc[row_indexer,col_indexer] = value instead\n",
      "\n",
      "See the caveats in the documentation: https://pandas.pydata.org/pandas-docs/stable/user_guide/indexing.html#returning-a-view-versus-a-copy\n",
      "  data['Price'] = data['Price'].astype('float64')\n"
     ]
    }
   ],
   "source": [
    "data['Price'] = data['Price'].astype('float64')"
   ]
  },
  {
   "cell_type": "code",
   "execution_count": 39,
   "id": "73124032-52d7-4e22-9b14-9c64e4fc9963",
   "metadata": {},
   "outputs": [
    {
     "name": "stdout",
     "output_type": "stream",
     "text": [
      "<class 'pandas.core.frame.DataFrame'>\n",
      "Index: 515668 entries, 0 to 525460\n",
      "Data columns (total 7 columns):\n",
      " #   Column       Non-Null Count   Dtype  \n",
      "---  ------       --------------   -----  \n",
      " 0   Invoice      515668 non-null  object \n",
      " 1   StockCode    515668 non-null  object \n",
      " 2   Description  515668 non-null  object \n",
      " 3   Quantity     515668 non-null  int64  \n",
      " 4   InvoiceDate  515668 non-null  object \n",
      " 5   Price        515668 non-null  float64\n",
      " 6   Country      515668 non-null  object \n",
      "dtypes: float64(1), int64(1), object(5)\n",
      "memory usage: 47.6+ MB\n"
     ]
    }
   ],
   "source": [
    "data.info()"
   ]
  },
  {
   "cell_type": "code",
   "execution_count": 40,
   "id": "16911c4d-59e9-4833-b625-d80fab8dca64",
   "metadata": {},
   "outputs": [
    {
     "name": "stderr",
     "output_type": "stream",
     "text": [
      "C:\\Users\\DEBBY\\AppData\\Local\\Temp\\ipykernel_9848\\1740368120.py:1: SettingWithCopyWarning: \n",
      "A value is trying to be set on a copy of a slice from a DataFrame.\n",
      "Try using .loc[row_indexer,col_indexer] = value instead\n",
      "\n",
      "See the caveats in the documentation: https://pandas.pydata.org/pandas-docs/stable/user_guide/indexing.html#returning-a-view-versus-a-copy\n",
      "  data['InvoiceDate'] = pd.to_datetime(data['InvoiceDate'])\n"
     ]
    }
   ],
   "source": [
    "data['InvoiceDate'] = pd.to_datetime(data['InvoiceDate'])"
   ]
  },
  {
   "cell_type": "code",
   "execution_count": 41,
   "id": "d57131b1-bad3-425a-bcd8-98d711475561",
   "metadata": {},
   "outputs": [
    {
     "name": "stdout",
     "output_type": "stream",
     "text": [
      "<class 'pandas.core.frame.DataFrame'>\n",
      "Index: 515668 entries, 0 to 525460\n",
      "Data columns (total 7 columns):\n",
      " #   Column       Non-Null Count   Dtype         \n",
      "---  ------       --------------   -----         \n",
      " 0   Invoice      515668 non-null  object        \n",
      " 1   StockCode    515668 non-null  object        \n",
      " 2   Description  515668 non-null  object        \n",
      " 3   Quantity     515668 non-null  int64         \n",
      " 4   InvoiceDate  515668 non-null  datetime64[ns]\n",
      " 5   Price        515668 non-null  float64       \n",
      " 6   Country      515668 non-null  object        \n",
      "dtypes: datetime64[ns](1), float64(1), int64(1), object(4)\n",
      "memory usage: 47.6+ MB\n"
     ]
    }
   ],
   "source": [
    "data.info()"
   ]
  },
  {
   "cell_type": "code",
   "execution_count": 42,
   "id": "cffca055-2b86-4286-9d66-410122585d38",
   "metadata": {},
   "outputs": [],
   "source": [
    "cat_columns = [col for col in data.select_dtypes('object')]"
   ]
  },
  {
   "cell_type": "code",
   "execution_count": 43,
   "id": "782ae089-fd2f-484b-86b7-bbcc94b2b7b0",
   "metadata": {},
   "outputs": [
    {
     "data": {
      "text/plain": [
       "['Invoice', 'StockCode', 'Description', 'Country']"
      ]
     },
     "execution_count": 43,
     "metadata": {},
     "output_type": "execute_result"
    }
   ],
   "source": [
    "cat_columns"
   ]
  },
  {
   "cell_type": "code",
   "execution_count": 44,
   "id": "43a493c9-0b85-4534-ad1d-577809014d37",
   "metadata": {},
   "outputs": [
    {
     "name": "stdout",
     "output_type": "stream",
     "text": [
      "Invoice\n",
      "Invoice\n",
      "537434     675\n",
      "538071     652\n",
      "537638     601\n",
      "537237     597\n",
      "536876     593\n",
      "          ... \n",
      "502334       1\n",
      "521926       1\n",
      "512044       1\n",
      "529719       1\n",
      "C527357      1\n",
      "Name: count, Length: 25888, dtype: int64\n",
      "---------------------\n",
      "StockCode\n",
      "StockCode\n",
      "85123A    3470\n",
      "22423     2210\n",
      "85099B    2045\n",
      "21212     1900\n",
      "21232     1807\n",
      "          ... \n",
      "21838        1\n",
      "84814A       1\n",
      "85024A       1\n",
      "72084B       1\n",
      "21120        1\n",
      "Name: count, Length: 4276, dtype: int64\n",
      "---------------------\n",
      "Description\n",
      "Description\n",
      "WHITE HANGING HEART T-LIGHT HOLDER    3503\n",
      "REGENCY CAKESTAND 3 TIER              2202\n",
      "STRAWBERRY CERAMIC TRINKET BOX        1807\n",
      "PACK OF 72 RETRO SPOT CAKE CASES      1445\n",
      "ASSORTED COLOUR BIRD ORNAMENT         1443\n",
      "                                      ... \n",
      "VINTAGE METAL CAKE STAND CREAM           1\n",
      "BLUE BAROQUE FLOCK CANDLE HOLDER         1\n",
      "S/4 HEART CRYSTAL FRIDGE MAGNETS         1\n",
      "HEART MEASURING SPOONS SMALL             1\n",
      "dotcom email                             1\n",
      "Name: count, Length: 4681, dtype: int64\n",
      "---------------------\n",
      "Country\n",
      "Country\n",
      "United Kingdom          476097\n",
      "EIRE                      9660\n",
      "Germany                   8120\n",
      "France                    5754\n",
      "Netherlands               2768\n",
      "Spain                     1271\n",
      "Switzerland               1187\n",
      "Portugal                  1098\n",
      "Belgium                   1053\n",
      "Channel Islands            906\n",
      "Sweden                     901\n",
      "Italy                      729\n",
      "Australia                  654\n",
      "Cyprus                     546\n",
      "Austria                    537\n",
      "Greece                     517\n",
      "United Arab Emirates       432\n",
      "Denmark                    428\n",
      "Norway                     369\n",
      "Finland                    354\n",
      "Unspecified                310\n",
      "USA                        244\n",
      "Japan                      224\n",
      "Poland                     194\n",
      "Malta                      172\n",
      "Lithuania                  154\n",
      "Singapore                  117\n",
      "RSA                        111\n",
      "Bahrain                    107\n",
      "Canada                      77\n",
      "Hong Kong                   76\n",
      "Thailand                    76\n",
      "Israel                      74\n",
      "Iceland                     71\n",
      "Korea                       63\n",
      "Brazil                      62\n",
      "West Indies                 54\n",
      "Bermuda                     34\n",
      "Nigeria                     32\n",
      "UK                          22\n",
      "Lebanon                     13\n",
      "Name: count, dtype: int64\n",
      "---------------------\n"
     ]
    }
   ],
   "source": [
    "for col in cat_columns:\n",
    "    print(col)\n",
    "    print(data[col].value_counts())\n",
    "    print('---------------------')"
   ]
  },
  {
   "cell_type": "code",
   "execution_count": 45,
   "id": "3587f5c9-17fd-4dba-a2df-f0514d5d90ff",
   "metadata": {},
   "outputs": [
    {
     "name": "stderr",
     "output_type": "stream",
     "text": [
      "C:\\Users\\DEBBY\\AppData\\Local\\Temp\\ipykernel_9848\\317427926.py:1: SettingWithCopyWarning: \n",
      "A value is trying to be set on a copy of a slice from a DataFrame.\n",
      "Try using .loc[row_indexer,col_indexer] = value instead\n",
      "\n",
      "See the caveats in the documentation: https://pandas.pydata.org/pandas-docs/stable/user_guide/indexing.html#returning-a-view-versus-a-copy\n",
      "  data['Country'] = data['Country'].str.replace('UK', 'United Kingdom')\n"
     ]
    }
   ],
   "source": [
    "data['Country'] = data['Country'].str.replace('UK', 'United Kingdom')"
   ]
  },
  {
   "cell_type": "code",
   "execution_count": 46,
   "id": "baadd309-6203-445a-b41e-abb728520032",
   "metadata": {},
   "outputs": [
    {
     "data": {
      "text/plain": [
       "Country\n",
       "United Kingdom          476119\n",
       "EIRE                      9660\n",
       "Germany                   8120\n",
       "France                    5754\n",
       "Netherlands               2768\n",
       "Spain                     1271\n",
       "Switzerland               1187\n",
       "Portugal                  1098\n",
       "Belgium                   1053\n",
       "Channel Islands            906\n",
       "Sweden                     901\n",
       "Italy                      729\n",
       "Australia                  654\n",
       "Cyprus                     546\n",
       "Austria                    537\n",
       "Greece                     517\n",
       "United Arab Emirates       432\n",
       "Denmark                    428\n",
       "Norway                     369\n",
       "Finland                    354\n",
       "Unspecified                310\n",
       "USA                        244\n",
       "Japan                      224\n",
       "Poland                     194\n",
       "Malta                      172\n",
       "Lithuania                  154\n",
       "Singapore                  117\n",
       "RSA                        111\n",
       "Bahrain                    107\n",
       "Canada                      77\n",
       "Hong Kong                   76\n",
       "Thailand                    76\n",
       "Israel                      74\n",
       "Iceland                     71\n",
       "Korea                       63\n",
       "Brazil                      62\n",
       "West Indies                 54\n",
       "Bermuda                     34\n",
       "Nigeria                     32\n",
       "Lebanon                     13\n",
       "Name: count, dtype: int64"
      ]
     },
     "execution_count": 46,
     "metadata": {},
     "output_type": "execute_result"
    }
   ],
   "source": [
    "data['Country'].value_counts()"
   ]
  },
  {
   "cell_type": "code",
   "execution_count": 47,
   "id": "4796f412-64c6-4703-bfbc-c0ee460accb7",
   "metadata": {},
   "outputs": [
    {
     "name": "stderr",
     "output_type": "stream",
     "text": [
      "C:\\Users\\DEBBY\\AppData\\Local\\Temp\\ipykernel_9848\\3584324840.py:1: SettingWithCopyWarning: \n",
      "A value is trying to be set on a copy of a slice from a DataFrame.\n",
      "Try using .loc[row_indexer,col_indexer] = value instead\n",
      "\n",
      "See the caveats in the documentation: https://pandas.pydata.org/pandas-docs/stable/user_guide/indexing.html#returning-a-view-versus-a-copy\n",
      "  data['Country'] = data['Country'].str.replace('RSA', 'South Africa')\n"
     ]
    }
   ],
   "source": [
    "data['Country'] = data['Country'].str.replace('RSA', 'South Africa')"
   ]
  },
  {
   "cell_type": "code",
   "execution_count": 48,
   "id": "24944c3c-9355-4867-8736-8b9c7c05c749",
   "metadata": {},
   "outputs": [
    {
     "data": {
      "text/plain": [
       "Country\n",
       "United Kingdom          476119\n",
       "EIRE                      9660\n",
       "Germany                   8120\n",
       "France                    5754\n",
       "Netherlands               2768\n",
       "Spain                     1271\n",
       "Switzerland               1187\n",
       "Portugal                  1098\n",
       "Belgium                   1053\n",
       "Channel Islands            906\n",
       "Sweden                     901\n",
       "Italy                      729\n",
       "Australia                  654\n",
       "Cyprus                     546\n",
       "Austria                    537\n",
       "Greece                     517\n",
       "United Arab Emirates       432\n",
       "Denmark                    428\n",
       "Norway                     369\n",
       "Finland                    354\n",
       "Unspecified                310\n",
       "USA                        244\n",
       "Japan                      224\n",
       "Poland                     194\n",
       "Malta                      172\n",
       "Lithuania                  154\n",
       "Singapore                  117\n",
       "South Africa               111\n",
       "Bahrain                    107\n",
       "Canada                      77\n",
       "Hong Kong                   76\n",
       "Thailand                    76\n",
       "Israel                      74\n",
       "Iceland                     71\n",
       "Korea                       63\n",
       "Brazil                      62\n",
       "West Indies                 54\n",
       "Bermuda                     34\n",
       "Nigeria                     32\n",
       "Lebanon                     13\n",
       "Name: count, dtype: int64"
      ]
     },
     "execution_count": 48,
     "metadata": {},
     "output_type": "execute_result"
    }
   ],
   "source": [
    "data['Country'].value_counts()"
   ]
  },
  {
   "cell_type": "code",
   "execution_count": 49,
   "id": "febcee66-c9a0-4b1d-8a32-141edc282f63",
   "metadata": {},
   "outputs": [
    {
     "name": "stderr",
     "output_type": "stream",
     "text": [
      "C:\\Users\\DEBBY\\AppData\\Local\\Temp\\ipykernel_9848\\904843175.py:1: SettingWithCopyWarning: \n",
      "A value is trying to be set on a copy of a slice from a DataFrame.\n",
      "Try using .loc[row_indexer,col_indexer] = value instead\n",
      "\n",
      "See the caveats in the documentation: https://pandas.pydata.org/pandas-docs/stable/user_guide/indexing.html#returning-a-view-versus-a-copy\n",
      "  data['Country'] = data['Country'].str.replace('EIRE', 'Ireland')\n"
     ]
    }
   ],
   "source": [
    "data['Country'] = data['Country'].str.replace('EIRE', 'Ireland')"
   ]
  },
  {
   "cell_type": "code",
   "execution_count": 50,
   "id": "93ae7513-3629-47b7-b4bd-58cde9667b52",
   "metadata": {},
   "outputs": [
    {
     "data": {
      "text/plain": [
       "Country\n",
       "United Kingdom          476119\n",
       "Ireland                   9660\n",
       "Germany                   8120\n",
       "France                    5754\n",
       "Netherlands               2768\n",
       "Spain                     1271\n",
       "Switzerland               1187\n",
       "Portugal                  1098\n",
       "Belgium                   1053\n",
       "Channel Islands            906\n",
       "Sweden                     901\n",
       "Italy                      729\n",
       "Australia                  654\n",
       "Cyprus                     546\n",
       "Austria                    537\n",
       "Greece                     517\n",
       "United Arab Emirates       432\n",
       "Denmark                    428\n",
       "Norway                     369\n",
       "Finland                    354\n",
       "Unspecified                310\n",
       "USA                        244\n",
       "Japan                      224\n",
       "Poland                     194\n",
       "Malta                      172\n",
       "Lithuania                  154\n",
       "Singapore                  117\n",
       "South Africa               111\n",
       "Bahrain                    107\n",
       "Canada                      77\n",
       "Hong Kong                   76\n",
       "Thailand                    76\n",
       "Israel                      74\n",
       "Iceland                     71\n",
       "Korea                       63\n",
       "Brazil                      62\n",
       "West Indies                 54\n",
       "Bermuda                     34\n",
       "Nigeria                     32\n",
       "Lebanon                     13\n",
       "Name: count, dtype: int64"
      ]
     },
     "execution_count": 50,
     "metadata": {},
     "output_type": "execute_result"
    }
   ],
   "source": [
    "data['Country'].value_counts()"
   ]
  },
  {
   "cell_type": "code",
   "execution_count": 51,
   "id": "5366cf79-823b-467d-8579-0d52c1a0b925",
   "metadata": {},
   "outputs": [
    {
     "data": {
      "text/html": [
       "<div>\n",
       "<style scoped>\n",
       "    .dataframe tbody tr th:only-of-type {\n",
       "        vertical-align: middle;\n",
       "    }\n",
       "\n",
       "    .dataframe tbody tr th {\n",
       "        vertical-align: top;\n",
       "    }\n",
       "\n",
       "    .dataframe thead th {\n",
       "        text-align: right;\n",
       "    }\n",
       "</style>\n",
       "<table border=\"1\" class=\"dataframe\">\n",
       "  <thead>\n",
       "    <tr style=\"text-align: right;\">\n",
       "      <th></th>\n",
       "      <th>Invoice</th>\n",
       "      <th>StockCode</th>\n",
       "      <th>Description</th>\n",
       "      <th>Quantity</th>\n",
       "      <th>InvoiceDate</th>\n",
       "      <th>Price</th>\n",
       "      <th>Country</th>\n",
       "    </tr>\n",
       "  </thead>\n",
       "  <tbody>\n",
       "    <tr>\n",
       "      <th>0</th>\n",
       "      <td>489434</td>\n",
       "      <td>85048</td>\n",
       "      <td>15CM CHRISTMAS GLASS BALL 20 LIGHTS</td>\n",
       "      <td>12</td>\n",
       "      <td>2009-12-01 07:45:00</td>\n",
       "      <td>6.95</td>\n",
       "      <td>United Kingdom</td>\n",
       "    </tr>\n",
       "    <tr>\n",
       "      <th>1</th>\n",
       "      <td>489434</td>\n",
       "      <td>79323P</td>\n",
       "      <td>PINK CHERRY LIGHTS</td>\n",
       "      <td>12</td>\n",
       "      <td>2009-12-01 07:45:00</td>\n",
       "      <td>6.75</td>\n",
       "      <td>United Kingdom</td>\n",
       "    </tr>\n",
       "    <tr>\n",
       "      <th>2</th>\n",
       "      <td>489434</td>\n",
       "      <td>79323W</td>\n",
       "      <td>WHITE CHERRY LIGHTS</td>\n",
       "      <td>12</td>\n",
       "      <td>2009-12-01 07:45:00</td>\n",
       "      <td>6.75</td>\n",
       "      <td>United Kingdom</td>\n",
       "    </tr>\n",
       "    <tr>\n",
       "      <th>3</th>\n",
       "      <td>489434</td>\n",
       "      <td>22041</td>\n",
       "      <td>RECORD FRAME 7\" SINGLE SIZE</td>\n",
       "      <td>48</td>\n",
       "      <td>2009-12-01 07:45:00</td>\n",
       "      <td>2.10</td>\n",
       "      <td>United Kingdom</td>\n",
       "    </tr>\n",
       "    <tr>\n",
       "      <th>4</th>\n",
       "      <td>489434</td>\n",
       "      <td>21232</td>\n",
       "      <td>STRAWBERRY CERAMIC TRINKET BOX</td>\n",
       "      <td>24</td>\n",
       "      <td>2009-12-01 07:45:00</td>\n",
       "      <td>1.25</td>\n",
       "      <td>United Kingdom</td>\n",
       "    </tr>\n",
       "  </tbody>\n",
       "</table>\n",
       "</div>"
      ],
      "text/plain": [
       "  Invoice StockCode                          Description  Quantity  \\\n",
       "0  489434     85048  15CM CHRISTMAS GLASS BALL 20 LIGHTS        12   \n",
       "1  489434    79323P                   PINK CHERRY LIGHTS        12   \n",
       "2  489434    79323W                  WHITE CHERRY LIGHTS        12   \n",
       "3  489434     22041         RECORD FRAME 7\" SINGLE SIZE         48   \n",
       "4  489434     21232       STRAWBERRY CERAMIC TRINKET BOX        24   \n",
       "\n",
       "          InvoiceDate  Price         Country  \n",
       "0 2009-12-01 07:45:00   6.95  United Kingdom  \n",
       "1 2009-12-01 07:45:00   6.75  United Kingdom  \n",
       "2 2009-12-01 07:45:00   6.75  United Kingdom  \n",
       "3 2009-12-01 07:45:00   2.10  United Kingdom  \n",
       "4 2009-12-01 07:45:00   1.25  United Kingdom  "
      ]
     },
     "execution_count": 51,
     "metadata": {},
     "output_type": "execute_result"
    }
   ],
   "source": [
    "data.head()"
   ]
  },
  {
   "cell_type": "code",
   "execution_count": 52,
   "id": "f8f9d28b-e9bd-49b1-a13a-08bc807c02a7",
   "metadata": {},
   "outputs": [],
   "source": [
    "data.to_csv('Cleaned_Data.csv')"
   ]
  },
  {
   "cell_type": "code",
   "execution_count": null,
   "id": "7eddd4da-97f3-4099-b9e9-f7d11bfd0279",
   "metadata": {},
   "outputs": [],
   "source": []
  }
 ],
 "metadata": {
  "kernelspec": {
   "display_name": "Python 3 (ipykernel)",
   "language": "python",
   "name": "python3"
  },
  "language_info": {
   "codemirror_mode": {
    "name": "ipython",
    "version": 3
   },
   "file_extension": ".py",
   "mimetype": "text/x-python",
   "name": "python",
   "nbconvert_exporter": "python",
   "pygments_lexer": "ipython3",
   "version": "3.12.4"
  }
 },
 "nbformat": 4,
 "nbformat_minor": 5
}
